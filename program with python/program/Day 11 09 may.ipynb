{
 "cells": [
  {
   "cell_type": "markdown",
   "metadata": {},
   "source": [
    "# Problem Solving and Programming\n",
    "## Day No - 11\n",
    "##  Date - 9th may 2019\n",
    "## Name - B.Saikrishna"
   ]
  },
  {
   "cell_type": "markdown",
   "metadata": {},
   "source": [
    "### Problem 1 :\n",
    "#### Problem Statement\n",
    "Design a flowchart to evaluate the polynomial f(x)= x^3 + 2 X^2 + 3 X - 10 \n",
    "#### Constrains \n",
    "for x in the range [1, 1000]\n",
    "#### Test Cases\n",
    "    * x=5 f(x)=180"
   ]
  },
  {
   "cell_type": "code",
   "execution_count": 27,
   "metadata": {},
   "outputs": [
    {
     "name": "stdout",
     "output_type": "stream",
     "text": [
      "180\n"
     ]
    }
   ],
   "source": [
    "def polynomial(x):\n",
    "    if (1<x<1000):\n",
    "        c=(x**3)+(2*(x**2))+(3*x)-10\n",
    "        print(c)\n",
    "    else:\n",
    "        print('value not in range')\n",
    "        \n",
    "polynomial(5)"
   ]
  },
  {
   "cell_type": "markdown",
   "metadata": {},
   "source": [
    "### Problem 2 :\n",
    "#### Problem Statement\n",
    "Determining whether a number is Even or Odd\n",
    "#### Test Cases\n",
    "    * 2 is even\n",
    "    * 3 is odd"
   ]
  },
  {
   "cell_type": "code",
   "execution_count": 34,
   "metadata": {},
   "outputs": [
    {
     "name": "stdout",
     "output_type": "stream",
     "text": [
      "2 is even\n",
      "3 is odd\n"
     ]
    }
   ],
   "source": [
    "def number(n):\n",
    "    if (n%2==0):\n",
    "        print(n,\"is even\")\n",
    "    else:\n",
    "        print(n,\"is odd\") \n",
    "number(2)\n",
    "number(3)"
   ]
  },
  {
   "cell_type": "markdown",
   "metadata": {},
   "source": [
    "### Problem 3 :\n",
    "#### Problem Statement\n",
    "Finding the greatest of 3 numbers\n",
    "#### Test Cases\n",
    "    * 1,2,3 -> 3 is greater"
   ]
  },
  {
   "cell_type": "code",
   "execution_count": 47,
   "metadata": {},
   "outputs": [
    {
     "name": "stdout",
     "output_type": "stream",
     "text": [
      "3 is greater\n"
     ]
    }
   ],
   "source": [
    "def number(n1,n2,n3):\n",
    "    if (n1>n2) and (n1>n3):\n",
    "        print(n1 ,\"is greater\")\n",
    "    elif(n2>n3):\n",
    "        print(n2,\"is greater\")\n",
    "    else:\n",
    "        print(n3, \"is greater\")\n",
    "        \n",
    "number(1,2,3)       "
   ]
  },
  {
   "cell_type": "markdown",
   "metadata": {},
   "source": [
    "### Problem 4 :\n",
    "#### Problem Statement\\\n",
    "Factorial of a given number as a procedure\n",
    "#### Test Cases\n",
    "    * Factorial(5) -> 120\n",
    "    * Factorial (6) -> 720"
   ]
  },
  {
   "cell_type": "code",
   "execution_count": 58,
   "metadata": {},
   "outputs": [
    {
     "name": "stdout",
     "output_type": "stream",
     "text": [
      "120\n"
     ]
    }
   ],
   "source": [
    "def factorial(n,):\n",
    "    c=1\n",
    "    for count in range(1,n+1):\n",
    "        c=(c*count)\n",
    "        \n",
    "    print(c)\n",
    "        \n",
    "factorial(5)"
   ]
  },
  {
   "cell_type": "markdown",
   "metadata": {},
   "source": [
    "### Problem 5 :\n",
    "#### Problem Statement\n",
    "Given 2 int values, return True if one is negative and one is positive. Except if the parameter \"negative\" is True, then return True only if both are negative.\n",
    "#### Test Cases\n",
    "    * pos_neg(1, -1, False) → True\n",
    "    * pos_neg(-1, 1, False) → True\n",
    "    * pos_neg(-4, -5, True) → True\n",
    "    * pos_neg(1, -1, True)  → False\n",
    "    * pos_neg(-1, -1, False)  → False\n",
    "    * pos_neg(1, 1, True)  → False"
   ]
  },
  {
   "cell_type": "code",
   "execution_count": 65,
   "metadata": {},
   "outputs": [
    {
     "name": "stdout",
     "output_type": "stream",
     "text": [
      "True\n",
      "True\n",
      "True\n",
      "False\n",
      "False\n",
      "False\n"
     ]
    }
   ],
   "source": [
    "def pos_neg(n1,n2,a):\n",
    "    if (n1 < 0 and n2>0 and a == False) or (n1>0 and n2<0 and a == False) or (n1<0 and n2<0 and a==True):\n",
    "        return True\n",
    "    else:\n",
    "        return False\n",
    "        \n",
    "print(pos_neg(1,-1,False))\n",
    "print(pos_neg(-1, 1, False))\n",
    "print(pos_neg(-4, -5, True))\n",
    "print(pos_neg(1, -1, True))\n",
    "print(pos_neg(-1, -1, False))\n",
    "print(pos_neg(1, 1, True))"
   ]
  },
  {
   "cell_type": "markdown",
   "metadata": {},
   "source": [
    "### Problem 6 :\n",
    "#### Problem Statement\n",
    "Testing Divisibility with 2 and 3 but not 4\n",
    "#### Test Cases\n",
    "    * 6-> True"
   ]
  },
  {
   "cell_type": "code",
   "execution_count": 63,
   "metadata": {},
   "outputs": [
    {
     "name": "stdout",
     "output_type": "stream",
     "text": [
      "true\n"
     ]
    }
   ],
   "source": [
    "def number(n):\n",
    "    if(n%2==0 and n%3==0 and n%4!=0):\n",
    "        print(\"true\")\n",
    "    else:\n",
    "        print(\"False\")\n",
    "number(6)        "
   ]
  },
  {
   "cell_type": "markdown",
   "metadata": {},
   "source": [
    "### Problem 7 :\n",
    "#### Problem Statement\n",
    "Given 2 ints, a and b, return True if one if them is 10 or if their sum is 10\n",
    "#### Test Cases\n",
    "    * (9, 10) 19 → True\n",
    "    * (9, 9) 18 → False\n",
    "    * (1, 9) 10 → True"
   ]
  },
  {
   "cell_type": "code",
   "execution_count": 69,
   "metadata": {},
   "outputs": [
    {
     "data": {
      "text/plain": [
       "True"
      ]
     },
     "execution_count": 69,
     "metadata": {},
     "output_type": "execute_result"
    }
   ],
   "source": [
    "def number(a,b):\n",
    "    c=a+b\n",
    "    if(a==10 or b==10 or c==10):\n",
    "        return True\n",
    "    else:\n",
    "        return False\n",
    "number(9,1)    \n",
    "    "
   ]
  },
  {
   "cell_type": "markdown",
   "metadata": {},
   "source": [
    "### Problem 8 :\n",
    "#### Problem Statement\n",
    "Given an int n, return True if it is within 10 of 100 or 200. \n",
    "#### Test Cases\n",
    "    * near_hundred(93) → True\n",
    "    * near_hundred(90) → True\n",
    "    * near_hundred(89) → False"
   ]
  },
  {
   "cell_type": "code",
   "execution_count": 85,
   "metadata": {},
   "outputs": [
    {
     "data": {
      "text/plain": [
       "True"
      ]
     },
     "execution_count": 85,
     "metadata": {},
     "output_type": "execute_result"
    }
   ],
   "source": [
    "def number(n):\n",
    "    if (89<n<101 or 189<n<201):\n",
    "        return True\n",
    "    else:\n",
    "        return False\n",
    "number(97)    "
   ]
  },
  {
   "cell_type": "markdown",
   "metadata": {},
   "source": [
    "### Problem 9 :\n",
    "#### Problem Statement\n",
    "Create a Random Number Generator as a Procedure which takes the Range(lb, ub) and returns a Random number in the given range\n",
    "#### Test Cases\n",
    "    * Random Genrator (1,100) -> will be in range (1,100)"
   ]
  },
  {
   "cell_type": "code",
   "execution_count": 6,
   "metadata": {},
   "outputs": [
    {
     "data": {
      "text/plain": [
       "70"
      ]
     },
     "execution_count": 6,
     "metadata": {},
     "output_type": "execute_result"
    }
   ],
   "source": [
    "import random\n",
    "def randomgenerator(lb,ub):\n",
    "    return random.randrange(lb+1,ub)\n",
    "\n",
    "randomgenerator(1,101)"
   ]
  },
  {
   "cell_type": "markdown",
   "metadata": {},
   "source": [
    "### Problem 10 :\n",
    "#### Problem Statement\n",
    "Procedure to print N natural numbers."
   ]
  },
  {
   "cell_type": "code",
   "execution_count": 8,
   "metadata": {},
   "outputs": [
    {
     "data": {
      "text/plain": [
       "462500710436624"
      ]
     },
     "execution_count": 8,
     "metadata": {},
     "output_type": "execute_result"
    }
   ],
   "source": [
    "import random \n",
    "def sumRandomNumbers(n,lb,ub):\n",
    "    sum=0\n",
    "    for count in range(1,n+1):\n",
    "        sum =sum+random.randint(lb,ub)\n",
    "    return sum\n",
    "\n",
    "sumRandomNumbers(100,100000000,10000000000000)"
   ]
  },
  {
   "cell_type": "markdown",
   "metadata": {},
   "source": [
    "### Problem 11 :\n",
    "#### Problem Statement\n",
    "Procedure to check if a given number is Prime and returns a Boolean value\n",
    "#### Test Cases\n",
    "    * IsPrime(7) -> True\n",
    "    * IsPrime(9) ->  False"
   ]
  },
  {
   "cell_type": "code",
   "execution_count": 84,
   "metadata": {},
   "outputs": [
    {
     "name": "stdout",
     "output_type": "stream",
     "text": [
      "not prime\n"
     ]
    }
   ],
   "source": [
    "def number(n):\n",
    "    if (n==1 or n==2 or n==3 or n==5 or n==7) or (n%2!=0 and n%3!=0 and n%5!=0 and n%7!=0):\n",
    "        print(\"prime\")\n",
    "    else:\n",
    "        print(\"not prime\")\n",
    "number(10)    \n"
   ]
  },
  {
   "cell_type": "markdown",
   "metadata": {},
   "source": [
    "### Problem 12 :\n",
    "#### Problem Statement\n",
    "Design a procedure to perform Linear search on list of N unsorted unique numbers. It take an array and the key element to be searched and returns the index of the element of key element if found. Else returns -1\n",
    "#### Test Cases\n",
    "    * LinearSearch( a[5,4,3,2,1], 4) -> 1\n",
    "    * LinearSearch( a[90, 123, 324, 21, 56], 22) -> -1"
   ]
  },
  {
   "cell_type": "code",
   "execution_count": 9,
   "metadata": {},
   "outputs": [
    {
     "name": "stdout",
     "output_type": "stream",
     "text": [
      "1\n",
      "-1\n"
     ]
    }
   ],
   "source": [
    "def linearSearch(a,key):\n",
    "    for i in range (0,len(a)):\n",
    "        if(a[i]==key):\n",
    "            return i\n",
    "    return -1\n",
    "print(linearSearch( [5,4,3,2,1], 4))\n",
    "print(linearSearch( [90, 123, 324, 21, 56], 22))"
   ]
  },
  {
   "cell_type": "markdown",
   "metadata": {},
   "source": [
    "### Problem 13 :\n",
    "#### Problem Statement\n",
    "Procedure to generate multiplication tables \n",
    "#### Test Cases\n",
    "    * MT(3, 5, 7) -> 3 X 5 = 15\n",
    "    * MT(3, 5, 7) -> 3 X 6 = 18\n",
    "    * MT(3, 5, 7) -> 3 X 7 = 21"
   ]
  },
  {
   "cell_type": "code",
   "execution_count": 10,
   "metadata": {},
   "outputs": [
    {
     "name": "stdout",
     "output_type": "stream",
     "text": [
      "3 * 5 = 15\n",
      "3 * 6 = 18\n",
      "3 * 7 = 21\n"
     ]
    }
   ],
   "source": [
    "def multi(n,lb,ub):\n",
    "    for i in range (lb,ub+1):\n",
    "        \n",
    "        print(n ,\"*\", i ,\"=\", n*i )\n",
    "        \n",
    "        \n",
    "multi(3,5,7)"
   ]
  },
  {
   "cell_type": "markdown",
   "metadata": {},
   "source": [
    "### Problem 14 :\n",
    "#### Problem Statement\n",
    "Procedure to print the list of factors of a given number. \n",
    "#### Constrains\n",
    "#### Test Cases\n",
    "    *FactorList(6) -> 1 2 3 6\n",
    "    *FactorList (9) -> 1 3 9\n",
    "    *FactorList (19) -> 1 19"
   ]
  },
  {
   "cell_type": "code",
   "execution_count": null,
   "metadata": {},
   "outputs": [],
   "source": [
    "def factors(n):\n",
    "    for i in range (1,n+1):\n",
    "        if (n%i==0):\n",
    "            print(i) \n",
    "    \n",
    "            \n",
    "factors(19)"
   ]
  }
 ],
 "metadata": {
  "kernelspec": {
   "display_name": "Python 3",
   "language": "python",
   "name": "python3"
  },
  "language_info": {
   "codemirror_mode": {
    "name": "ipython",
    "version": 3
   },
   "file_extension": ".py",
   "mimetype": "text/x-python",
   "name": "python",
   "nbconvert_exporter": "python",
   "pygments_lexer": "ipython3",
   "version": "3.7.3"
  }
 },
 "nbformat": 4,
 "nbformat_minor": 2
}
