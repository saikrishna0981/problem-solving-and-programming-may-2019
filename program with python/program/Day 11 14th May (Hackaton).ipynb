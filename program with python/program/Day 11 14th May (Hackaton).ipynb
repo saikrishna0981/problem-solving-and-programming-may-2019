{
 "cells": [
  {
   "cell_type": "markdown",
   "metadata": {},
   "source": [
    "# Problem 1:\n",
    "### Problem Statement: For a given integer N, find the total number of  Non - Prime Factors in the range (1, N) (both exclusive) that do not contain the digit 0\n",
    "#### Constraints\n",
    ">X is made up of one or more occurrences of 9 and zero or more occurrences of 0.\n",
    "#### Test Cases:\n",
    ">* nonPrimeFactorsCount( 100 ) -> 2\n",
    "* nonPrimeFactorsCount( 50 )  ->  "
   ]
  },
  {
   "cell_type": "code",
   "execution_count": 27,
   "metadata": {},
   "outputs": [
    {
     "name": "stdout",
     "output_type": "stream",
     "text": [
      "2\n"
     ]
    }
   ],
   "source": [
    "def nonPrimeFactorsCount(n):\n",
    "    a=[]\n",
    "    b=[]\n",
    "    \n",
    "    for i in range(2,n):\n",
    "        if(n%i==0):\n",
    "            a.append(i)    \n",
    "    for i in range(0,len(a)):\n",
    "        if(int(a[i]%10)!=0):\n",
    "            b.append(a[i])\n",
    "    for i in range(0,len(b)):\n",
    "        if((a[i]==1 or a[i]==2 or a[i] ==3 or a[i]==5 or a[i]==7) or(a[i]%2!=0  and a[i]%3!=0  and a[i]%5!=0  and a[i]%7!=0)): \n",
    "            b.remove(b[i])\n",
    "    print(len(b))\n",
    "\n",
    "nonPrimeFactorsCount(100)"
   ]
  },
  {
   "cell_type": "markdown",
   "metadata": {},
   "source": [
    "#  "
   ]
  },
  {
   "cell_type": "markdown",
   "metadata": {},
   "source": [
    "# Problem 2:\n",
    "### Problem Statement: For a given integer N. Find the least positive integer X made up of only 9's and 0's, such that, X is a multiple of N.\n",
    "#### Constraints\n",
    "\n",
    "#### Test Cases:\n",
    ">* Multiple( 5 )  -> 90\n",
    "* Multiple ( 7 )  -> 9009\n",
    "* Multiple( 1 )  -> 9"
   ]
  },
  {
   "cell_type": "code",
   "execution_count": 24,
   "metadata": {},
   "outputs": [
    {
     "name": "stdout",
     "output_type": "stream",
     "text": [
      "9\n"
     ]
    }
   ],
   "source": [
    "def Multiple(num):\n",
    "    i = 0\n",
    "    while(i >= 0):\n",
    "        str1 = str(i)\n",
    "        boolean = ('9' in str1 and '0' in str1) or ('9' in str1)\n",
    "        boolean1 = '1' in str1 or '2' in str1 or '3' in str1 or '4' in str1 or '5' in str1 or '6' in str1 or '7' in str1 or '8' in str1\n",
    "        boolean2='9' in str1 \n",
    "        if(boolean == True and boolean1 == False):\n",
    "            print(i)\n",
    "            break\n",
    "        i = i + num\n",
    "Multiple(1)"
   ]
  },
  {
   "cell_type": "code",
   "execution_count": null,
   "metadata": {},
   "outputs": [],
   "source": []
  }
 ],
 "metadata": {
  "kernelspec": {
   "display_name": "Python 3",
   "language": "python",
   "name": "python3"
  },
  "language_info": {
   "codemirror_mode": {
    "name": "ipython",
    "version": 3
   },
   "file_extension": ".py",
   "mimetype": "text/x-python",
   "name": "python",
   "nbconvert_exporter": "python",
   "pygments_lexer": "ipython3",
   "version": "3.7.3"
  }
 },
 "nbformat": 4,
 "nbformat_minor": 2
}
