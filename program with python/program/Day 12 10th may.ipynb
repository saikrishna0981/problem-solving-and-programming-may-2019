{
 "cells": [
  {
   "cell_type": "markdown",
   "metadata": {},
   "source": [
    "# Problem Solving and Programming\n",
    "## Day No - 11\n",
    "##  Date - 10th may 2019\n",
    "## Name - B.Saikrishna"
   ]
  },
  {
   "cell_type": "markdown",
   "metadata": {},
   "source": [
    "### Problem 1:\n",
    "#### Problem Statement\n",
    "Design a procedure calculate the maximum, minimum and average of N numbers\n",
    "#### Test Cases\n",
    "    *data( a[1,2,3,4,5] ) -> Max = 5, Min = 1, Avg = 3"
   ]
  },
  {
   "cell_type": "code",
   "execution_count": 3,
   "metadata": {},
   "outputs": [
    {
     "name": "stdout",
     "output_type": "stream",
     "text": [
      "2\n",
      "6\n",
      "4.25\n"
     ]
    }
   ],
   "source": [
    "def data(a):\n",
    "    print(min(a))\n",
    "    print(max(a))\n",
    "    b=0\n",
    "    for i in range(0, len(a)):\n",
    "        b=a[i]+b\n",
    "    avg= b/len(a)\n",
    "    print(avg)\n",
    "   \n",
    "data([5,6,2,4])    "
   ]
  },
  {
   "cell_type": "markdown",
   "metadata": {},
   "source": [
    "### Problem 2 :\n",
    "#### Problem Statement\n",
    "Design a procedure to determine the power ofa number using recursion\n",
    "#### Test Cases\n",
    "    * recursivepower(2,4)-> 16"
   ]
  },
  {
   "cell_type": "code",
   "execution_count": 1,
   "metadata": {},
   "outputs": [
    {
     "data": {
      "text/plain": [
       "16"
      ]
     },
     "execution_count": 1,
     "metadata": {},
     "output_type": "execute_result"
    }
   ],
   "source": [
    "def recursivepower(n,r):\n",
    "    if r==1:\n",
    "        return n\n",
    "    else:\n",
    "        return recursivepower(n,r-1)*n\n",
    "recursivepower(2,4)    "
   ]
  },
  {
   "cell_type": "markdown",
   "metadata": {},
   "source": [
    "### Problem 3 :\n",
    "#### Problem Statement\n",
    "Design a procedure to determine the factorial of a number using recursion  \n",
    "\n",
    "#### Test Cases\n",
    "    * recursivefact(5)->120"
   ]
  },
  {
   "cell_type": "code",
   "execution_count": 2,
   "metadata": {},
   "outputs": [
    {
     "data": {
      "text/plain": [
       "120"
      ]
     },
     "execution_count": 2,
     "metadata": {},
     "output_type": "execute_result"
    }
   ],
   "source": [
    "def recursivefact(n):\n",
    "    if n==1:\n",
    "        return n\n",
    "    else:\n",
    "        return recursivefact(n-1)*n\n",
    "recursivefact(5)    "
   ]
  },
  {
   "cell_type": "markdown",
   "metadata": {},
   "source": [
    "### Problem 4 :\n",
    "#### Problem Statement\n",
    "To find the gcd of a number using recursion\n",
    "#### Test Case\n",
    "    * gcdrecursive(12,41)-> 1"
   ]
  },
  {
   "cell_type": "code",
   "execution_count": 4,
   "metadata": {},
   "outputs": [
    {
     "data": {
      "text/plain": [
       "1"
      ]
     },
     "execution_count": 4,
     "metadata": {},
     "output_type": "execute_result"
    }
   ],
   "source": [
    "def gcdrecursive(a,b):\n",
    "    if b%a==0:\n",
    "        return a\n",
    "    else:\n",
    "        return gcdrecursive(b%a,a)\n",
    "gcdrecursive(12,41)"
   ]
  },
  {
   "cell_type": "markdown",
   "metadata": {},
   "source": [
    "### Problem 5 :\n",
    "#### Problem Statement\n",
    "To find the gcd of a number using iterative\n",
    "#### Test Cases\n",
    "    * Test Case 1\n",
    "    * Test Case 2\n",
    "    * Test Case 3"
   ]
  },
  {
   "cell_type": "code",
   "execution_count": 1,
   "metadata": {},
   "outputs": [
    {
     "data": {
      "text/plain": [
       "1"
      ]
     },
     "execution_count": 1,
     "metadata": {},
     "output_type": "execute_result"
    }
   ],
   "source": [
    "def gcdIterative(a,b):\n",
    "    r=b%a\n",
    "    if r==0:   \n",
    "        return a\n",
    "    while r!=0:\n",
    "        r=b%a\n",
    "        b=a\n",
    "        a=r\n",
    "    return b\n",
    "gcdIterative(12,41)"
   ]
  },
  {
   "cell_type": "markdown",
   "metadata": {},
   "source": [
    "### Problem 6 :\n",
    "#### Problem Statement\n",
    "towers of hanoi\n",
    "\n",
    "\n"
   ]
  },
  {
   "cell_type": "code",
   "execution_count": 4,
   "metadata": {},
   "outputs": [
    {
     "name": "stdout",
     "output_type": "stream",
     "text": [
      "move 1 disk from a to c\n",
      "move 2 disk from a to b\n",
      "move 1 disk from c to b\n",
      "move 3 disk from a to c\n",
      "move 1 disk from b to a\n",
      "move 2 disk from b to c\n",
      "move 1 disk from a to c\n"
     ]
    }
   ],
   "source": [
    "def TowersOfHanoi(n, source,temp,dest):\n",
    "    if n==1:\n",
    "        print('move',n,'disk from',source,'to',dest)\n",
    "        return\n",
    "    else:\n",
    "        TowersOfHanoi(n-1,source,dest,temp)\n",
    "        print('move',n,'disk from',source,'to',dest)\n",
    "        TowersOfHanoi(n-1,temp,source,dest)\n",
    "        return\n",
    "TowersOfHanoi(3,'a','b','c')"
   ]
  }
 ],
 "metadata": {
  "kernelspec": {
   "display_name": "Python 3",
   "language": "python",
   "name": "python3"
  },
  "language_info": {
   "codemirror_mode": {
    "name": "ipython",
    "version": 3
   },
   "file_extension": ".py",
   "mimetype": "text/x-python",
   "name": "python",
   "nbconvert_exporter": "python",
   "pygments_lexer": "ipython3",
   "version": "3.7.3"
  }
 },
 "nbformat": 4,
 "nbformat_minor": 2
}
