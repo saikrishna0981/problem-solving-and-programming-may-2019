{
 "cells": [
  {
   "cell_type": "markdown",
   "metadata": {},
   "source": [
    "# Problem Solving and Programming\n",
    "## Day No - 13\n",
    "##  Date - 11th may 2019\n",
    "## Name - B.Saikrishna"
   ]
  },
  {
   "cell_type": "markdown",
   "metadata": {},
   "source": [
    "### Problem 1 :\n",
    "#### Problem Statement\n",
    "Define a function to identity the number of times a substring is repeating in a given string\n",
    "#### Test Cases\n",
    "    * substringCount('str', 'substr') -> 1\n",
    "    * substringCount('3', '1234567891122334455') -> 3\n",
    "    * substringCount('cc', 'abccddccc') -> 3\n",
    "    "
   ]
  },
  {
   "cell_type": "code",
   "execution_count": 66,
   "metadata": {},
   "outputs": [
    {
     "data": {
      "text/plain": [
       "3"
      ]
     },
     "execution_count": 66,
     "metadata": {},
     "output_type": "execute_result"
    }
   ],
   "source": [
    "def substringCount(str1,str2):\n",
    "    count=0\n",
    "    for i in range(0,len(str2)):\n",
    "        for j in range(len(str1),len(str2)):\n",
    "            if(str2[i:j+1]==str1):\n",
    "                count=count+1\n",
    "                \n",
    "    return count\n",
    "substringCount('3', '1234567891122334455')"
   ]
  },
  {
   "cell_type": "markdown",
   "metadata": {},
   "source": [
    "### Problem 2 :\n",
    "#### Problem Statement\n",
    "Define a function to merge the characters of two strings alternatively. The remaining character of the longer string are printed in the same order at the end\n",
    "#### Test Cases\n",
    "    * mergeString('abcd', 'abcd') -> 'aabbccdd'\n",
    "    * mergeString('abc', '123456') -> 'a1b2c3456'\n",
    "    * mergeString('0', '123456') -> '0123456'"
   ]
  },
  {
   "cell_type": "code",
   "execution_count": 56,
   "metadata": {},
   "outputs": [
    {
     "name": "stdout",
     "output_type": "stream",
     "text": [
      "a1b2c3d456\n"
     ]
    }
   ],
   "source": [
    "def mergeString(str1,str2):\n",
    "    i=0\n",
    "    str3=\"\"\n",
    "    for j in range(0,len(str2)):\n",
    "        if (i<len(str1)):\n",
    "            str4=str3+str1[i]+str2[j]\n",
    "            str3=str4\n",
    "            i=i+1\n",
    "        else:\n",
    "            str4=str3+str2[j]\n",
    "            str3=str4\n",
    "    print(str4)\n",
    "mergeString('abcd', '123456')"
   ]
  },
  {
   "cell_type": "markdown",
   "metadata": {},
   "source": [
    "### Problem 3 :\n",
    "#### Problem Statement\n",
    "Define a function to convert a binary number to the corresponding decimal number\n",
    "#### Test Cases\n",
    "    * binaryToDecimal([1,1,0,0]) -> 12\n",
    "    * binaryToDecimal([1,0,1,0]) -> 10\n",
    "    * binaryToDecimal([1,1,1,0,0,0]) -> 56"
   ]
  },
  {
   "cell_type": "code",
   "execution_count": 115,
   "metadata": {},
   "outputs": [
    {
     "data": {
      "text/plain": [
       "56"
      ]
     },
     "execution_count": 115,
     "metadata": {},
     "output_type": "execute_result"
    }
   ],
   "source": [
    "def binaryToDecimal(n):\n",
    "    a=0\n",
    "    for i in range(0,len(n)):\n",
    "        b=((n[i])*((2)**(len(n)-(i+1))))+a\n",
    "        a=b\n",
    "    return a    \n",
    "binaryToDecimal([1,1,1,0,0,0])       "
   ]
  },
  {
   "cell_type": "markdown",
   "metadata": {},
   "source": [
    "### Problem 4 :\n",
    "#### Problem Statement\n",
    "Define a function to convert a decimal number to the corresponding binary number\n",
    "#### Test Cases\n",
    "    * decimalToBinary(15) -> 1111\n",
    "    * decimalToBinary(1) -> 1"
   ]
  },
  {
   "cell_type": "code",
   "execution_count": 31,
   "metadata": {},
   "outputs": [
    {
     "name": "stdout",
     "output_type": "stream",
     "text": [
      "1 1 0 "
     ]
    }
   ],
   "source": [
    "def decimalToBinary(n):  \n",
    "    if(n > 1):\n",
    "        decimalToBinary(n//2)  \n",
    "    print(n%2, end=' ') \n",
    "    \n",
    "decimalToBinary(6)  \n",
    "    "
   ]
  },
  {
   "cell_type": "markdown",
   "metadata": {},
   "source": [
    "### Problem 5 :\n",
    "#### Problem Statement\n",
    "Define a function to check if a given year is a leap year. Returns a boolean value\n",
    "#### Test Cases\n",
    "    * 2000 -> True\n",
    "    * 1900 -> False\n",
    "    * 2012 -> True\n",
    "    * 2020 -> True\n",
    "    * 0200 -> False"
   ]
  },
  {
   "cell_type": "code",
   "execution_count": 137,
   "metadata": {},
   "outputs": [
    {
     "data": {
      "text/plain": [
       "False"
      ]
     },
     "execution_count": 137,
     "metadata": {},
     "output_type": "execute_result"
    }
   ],
   "source": [
    "def leapyear(n):\n",
    "    if ((n%100)==0):\n",
    "        if ((n%400)==0):\n",
    "            return True\n",
    "        else:\n",
    "            return False\n",
    "    elif((n%4)==0):\n",
    "        return True\n",
    "    else:\n",
    "        return False\n",
    "leapyear(200)"
   ]
  },
  {
   "cell_type": "markdown",
   "metadata": {},
   "source": [
    "### Problem 6 :\n",
    "#### Problem Statement\n",
    "Define a function to find the average of all the outer elements of an N x M matrix\n",
    "#### Test Cases\n",
    "    * averageOuterMatrix([[1, 2, 3], [4, 5, 6], [7, 8, 9], [10, 11, 12]] -> 6.5"
   ]
  },
  {
   "cell_type": "code",
   "execution_count": 3,
   "metadata": {},
   "outputs": [
    {
     "data": {
      "text/plain": [
       "6.5"
      ]
     },
     "execution_count": 3,
     "metadata": {},
     "output_type": "execute_result"
    }
   ],
   "source": [
    "def averageOuterMatrix(a):\n",
    "    sum=0\n",
    "    b=0\n",
    "    \n",
    "    for i in range(0,len(a)):\n",
    "        if i==0 or i==len(a)-1:\n",
    "            for j in range(0,len(a[i])):\n",
    "                sum=sum+a[i][j]\n",
    "                b=b+1\n",
    "        else:\n",
    "            sum=sum+a[i][0]+a[i][len(a[i])-1]\n",
    "            b=b+2\n",
    "    return sum/b\n",
    "averageOuterMatrix([[1, 2, 3], [4, 5, 6], [7, 8, 9], [10, 11, 12]])"
   ]
  }
 ],
 "metadata": {
  "kernelspec": {
   "display_name": "Python 3",
   "language": "python",
   "name": "python3"
  },
  "language_info": {
   "codemirror_mode": {
    "name": "ipython",
    "version": 3
   },
   "file_extension": ".py",
   "mimetype": "text/x-python",
   "name": "python",
   "nbconvert_exporter": "python",
   "pygments_lexer": "ipython3",
   "version": "3.7.3"
  }
 },
 "nbformat": 4,
 "nbformat_minor": 2
}
