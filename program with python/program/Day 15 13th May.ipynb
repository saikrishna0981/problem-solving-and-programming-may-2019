{
 "cells": [
  {
   "cell_type": "markdown",
   "metadata": {},
   "source": [
    "# Problem Solving and Programming\n",
    "## Day No - 15\n",
    "##  Date - 13th may 2019\n",
    "## Name - B.Saikrishna"
   ]
  },
  {
   "cell_type": "markdown",
   "metadata": {},
   "source": [
    "### Problem 1 :\n",
    "#### Problem Statement\n",
    "Define a function to print the sequence of spiral pattern elements for a given N x N matrix\n",
    "#### Test Cases\n",
    "    * spiralPattern([[1,2,3], [4,5,6], [7,8,9]]) -> 1 2 3 6 9 8 7 4 5"
   ]
  },
  {
   "cell_type": "code",
   "execution_count": 1,
   "metadata": {},
   "outputs": [
    {
     "name": "stdout",
     "output_type": "stream",
     "text": [
      "1 2 3 6 9 12 11 10 7 4 "
     ]
    }
   ],
   "source": [
    "def rowprint(a,r,rs,nc):\n",
    "    for i in range(rs,nc):\n",
    "        print(a[r][i],end=' ')   # cs=column start\n",
    "        \n",
    "def coloumprint(a,c,cs,nr):\n",
    "    for i in range(cs,nr):\n",
    "        print(a[i][c],end =' ')\n",
    "        \n",
    "def reverserowprint(a,r,rs,nc):\n",
    "    for i in range(nc-rs-1,-1,-1):\n",
    "        print(a[r][i],end=' ')\n",
    "        \n",
    "def reversecoloumprint(a,c,cs,cstp,nr):\n",
    "    for i in range(nr-1-cs,cstp,-1):\n",
    "        print(a[i][c],end=' ')\n",
    "        \n",
    "def outerMatrix(ml,nr,nc):\n",
    "    \n",
    "    rowprint(ml,0,0,3)\n",
    "    coloumprint(ml,nc-1,1,nr)\n",
    "    reverserowprint(ml,nr-1,nc-2,nc)\n",
    "    reversecoloumprint(ml,0,nr-3,0,nr)\n",
    "    \n",
    "        \n",
    "        \n",
    "ml=([[1,2,3],[4,5,6],[7,8,9],[10,11,12]])\n",
    "\n",
    "outerMatrix(ml,4,3)\n"
   ]
  },
  {
   "cell_type": "markdown",
   "metadata": {},
   "source": [
    "### Problem 2 :\n",
    "#### Problem Statement\n",
    "Design a Python script to determine the difference in date for given two dates in YYYY:MM:DD format(0 <=YYYY <= 9999, 1 <= MM <= 12, 1 <= DD <= 31) following the leap year rules. Return the total number of days existing between the two dates.\n",
    "#### Constrains\n",
    "#### Test Cases\n",
    "    * dateDifference('2019:05:10', '2019:05:01') -> 9\n",
    "    * dateDifference('0003:03:03', '0003:06:06') -> 95"
   ]
  },
  {
   "cell_type": "code",
   "execution_count": 4,
   "metadata": {},
   "outputs": [
    {
     "data": {
      "text/plain": [
       "820"
      ]
     },
     "execution_count": 4,
     "metadata": {},
     "output_type": "execute_result"
    }
   ],
   "source": [
    "def dateDifference(date1,date2):\n",
    "    if yearFromDate(date1)==yearFromDate(date2):\n",
    "        return abs((totalDaysDate(date1)-totalDaysDate(date2)))\n",
    "    elif yearFromDate(date2)-yearFromDate(date1) ==1:\n",
    "        return totalDaysDateEndYear(date1)+totalDaysDate(date2)\n",
    "    else:\n",
    "        sum =totalDaysDateEndYear(date1)+totalDaysDate(date2)\n",
    "        year1 = yearFromDate(date1)\n",
    "        year2 = yearFromDate(date2)\n",
    "        for i in range(year1+1,year2):\n",
    "            sum += numDaysInYear(i)\n",
    "        return sum\n",
    "           \n",
    "        \n",
    "def daysinFeb(year): \n",
    "    '''\n",
    "    import calender\n",
    "    return calender.isleap(year)\n",
    "    '''\n",
    "    \n",
    "    if(year%400==0) or (year%100!=0 and year%4==0):\n",
    "        return 29\n",
    "    return 28\n",
    "\n",
    "def numDaysInMonth(month,year):\n",
    "    monthDays = {'01':31, '03':31, '04':30, '05':31, '06':30, '08':31, '09':30, '10':31, '11':30, '12':31 }\n",
    "    if(month==2):\n",
    "        return daysinFeb(year)\n",
    "    elif(month<7 and month!=2 and month%2==0) or (month>7 and month%2!=0):\n",
    "        return 30        \n",
    "    else:\n",
    "        return 31\n",
    "\n",
    "def numDaysInYear(year):\n",
    "    if daysinFeb(year)==29:\n",
    "        return 366\n",
    "    return 365\n",
    "\n",
    "def totalDaysDate(date):\n",
    "    year = int(date[:4])\n",
    "    month = int(date[5:7])\n",
    "    day = int(date[len(date)-2:])\n",
    "    sum=0\n",
    "    for i in range(1,month):\n",
    "        sum += numDaysInMonth(i,year)\n",
    "    sum +=day\n",
    "    return sum\n",
    "\n",
    "def totalDaysDateEndYear(date):\n",
    "    year = yearFromDate(date)\n",
    "    month = monthFromDate(date)\n",
    "    day = daysFromDate(date)\n",
    "    sum=0\n",
    "    for i in range(month,13):\n",
    "        sum += numDaysInMonth(i,year)\n",
    "    sum += numDaysInMonth(month,year)\n",
    "    return sum\n",
    "\n",
    "def yearFromDate(date):\n",
    "    return int(date[:4])\n",
    "\n",
    "def monthFromDate(date):\n",
    "    return int(date[5:7])\n",
    "\n",
    "def daysFromDate(date):\n",
    "    return int(date[len(date)-2])\n",
    "    \n",
    "dateDifference('0001:01:31','0003:02:28')\n",
    "\n",
    "#totalDaysDateEndYear('0001:01:01')"
   ]
  },
  {
   "cell_type": "code",
   "execution_count": null,
   "metadata": {},
   "outputs": [],
   "source": []
  }
 ],
 "metadata": {
  "kernelspec": {
   "display_name": "Python 3",
   "language": "python",
   "name": "python3"
  },
  "language_info": {
   "codemirror_mode": {
    "name": "ipython",
    "version": 3
   },
   "file_extension": ".py",
   "mimetype": "text/x-python",
   "name": "python",
   "nbconvert_exporter": "python",
   "pygments_lexer": "ipython3",
   "version": "3.7.3"
  }
 },
 "nbformat": 4,
 "nbformat_minor": 2
}
