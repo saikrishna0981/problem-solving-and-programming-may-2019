{
 "cells": [
  {
   "cell_type": "markdown",
   "metadata": {},
   "source": [
    "# Problem Solving and Programming\n",
    "## Day No - 17\n",
    "##  Date - 15th may 2019\n",
    "## Name - B.Saikrishna"
   ]
  },
  {
   "cell_type": "markdown",
   "metadata": {},
   "source": [
    "### Regular Expressions"
   ]
  },
  {
   "cell_type": "code",
   "execution_count": 5,
   "metadata": {},
   "outputs": [
    {
     "name": "stdout",
     "output_type": "stream",
     "text": [
      "successful\n"
     ]
    }
   ],
   "source": [
    "import re\n",
    "\n",
    "pattern= '^[a-z]{3,9}$'\n",
    "domain= 'afv'\n",
    "if re.match(pattern,domain):\n",
    "    print('successful')\n",
    "else:\n",
    "    print(\"not successful\")\n",
    "\n",
    "\n"
   ]
  },
  {
   "cell_type": "code",
   "execution_count": 71,
   "metadata": {},
   "outputs": [
    {
     "name": "stdout",
     "output_type": "stream",
     "text": [
      "successful\n"
     ]
    }
   ],
   "source": [
    "import re\n",
    "pattern='^[+][9][1][6-9][0-9]{9}$'\n",
    "domain='+919949836847'\n",
    "if re.match(pattern,domain):\n",
    "    print('successful')\n",
    "else:\n",
    "    print(\"not successful\")"
   ]
  },
  {
   "cell_type": "markdown",
   "metadata": {},
   "source": [
    "### Problem 1 :\n",
    "#### Problem Statement\n",
    "Define a function to validate email addresses based on the following rules.\n",
    "Email should be in the format username@domain.extension\n",
    "username must start with an alphabet and can contain lowercase alphabet, digits, hyphen(-) and underscores( _ ).\n",
    "username must not contain special characters, uppercase letters, whitespaces.\n",
    "Length of username must be in the range (6, 16)\n",
    "Domain can only contain lowercase alphabet and digits with length in range (3, 10) . No special characters are allowed\n",
    "Extension can only contain lower case alphabet and its length must be in the range (2, 4)\n",
    "First line of input contains total number of email addresses n. Next n lines contain n email addresses.\n",
    "Output must contain contain n lines with either 'Valid' or 'Invalid\n",
    "#### Test Cases\n",
    "    * Sample Input : 6\n",
    "      abc456@gmail.com\n",
    "      456abc@yahoo.com\n",
    "      abc_456@gitam.ed1\n",
    "      abc-456@abc-d.in\n",
    "      python@python.edu\n",
    "      abc 456@edu.edu\n",
    "    * Sample Output : \n",
    "      Valid\n",
    "      Invalid\n",
    "      Invalid\n",
    "      Invalid\n",
    "      Valid\n",
    "      Invalid"
   ]
  },
  {
   "cell_type": "code",
   "execution_count": 73,
   "metadata": {},
   "outputs": [
    {
     "name": "stdout",
     "output_type": "stream",
     "text": [
      "successful\n"
     ]
    }
   ],
   "source": [
    "import re\n",
    "pattern='^[a-z][a-z0-9_-]{5,13}[a-z0-9][@][a-z0-9]{3,9}[.][a-z]{2,3}$'\n",
    "domain='saikrisha1998@gmail.com'\n",
    "if re.match(pattern,domain):\n",
    "    print('successfull')\n",
    "else:\n",
    "    print(\"not successful\")"
   ]
  },
  {
   "cell_type": "markdown",
   "metadata": {},
   "source": [
    "## Password Validation\n",
    "* should contain atleast one upper case\n",
    "* length in the range (6,21)\n",
    "* should contain atleast one special character\n",
    "* should start with upper case or lower case\n",
    "* should contain atleast one digit"
   ]
  },
  {
   "cell_type": "code",
   "execution_count": 1,
   "metadata": {},
   "outputs": [
    {
     "name": "stdout",
     "output_type": "stream",
     "text": [
      "successful\n"
     ]
    }
   ],
   "source": [
    "import re\n",
    "pattern='^[a-zA-Z](?=.*[a-z])(?=.*[A-Z])(?=.*[0-9])(?=.*[@$!%*?&])[A-Za-z0-9@$!%*?&]{5,19}$'\n",
    "domain='SaiKrishna09@'\n",
    "if re.match(pattern,domain):\n",
    "    print('successful')\n",
    "else:\n",
    "    print(\"not successful\")"
   ]
  },
  {
   "cell_type": "code",
   "execution_count": 6,
   "metadata": {},
   "outputs": [
    {
     "name": "stdout",
     "output_type": "stream",
     "text": [
      "1 8 27 64 125 216 343 512 729 1000 1331 "
     ]
    }
   ],
   "source": [
    "li=[i**3 for i in range(1,10)]\n",
    "li\n",
    "gn=(i**3 for i in range(1,12))\n",
    "for i in gn:\n",
    "    print(i,end=' ')"
   ]
  },
  {
   "cell_type": "code",
   "execution_count": null,
   "metadata": {},
   "outputs": [],
   "source": []
  }
 ],
 "metadata": {
  "kernelspec": {
   "display_name": "Python 3",
   "language": "python",
   "name": "python3"
  },
  "language_info": {
   "codemirror_mode": {
    "name": "ipython",
    "version": 3
   },
   "file_extension": ".py",
   "mimetype": "text/x-python",
   "name": "python",
   "nbconvert_exporter": "python",
   "pygments_lexer": "ipython3",
   "version": "3.7.3"
  }
 },
 "nbformat": 4,
 "nbformat_minor": 2
}
