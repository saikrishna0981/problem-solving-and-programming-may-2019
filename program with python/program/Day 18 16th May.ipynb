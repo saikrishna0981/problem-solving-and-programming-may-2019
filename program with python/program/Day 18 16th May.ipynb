{
 "cells": [
  {
   "cell_type": "markdown",
   "metadata": {},
   "source": [
    "# Problem Solving and Programming\n",
    "## Day No - 18\n",
    "##  Date - 16th may 2019\n",
    "## Name - B.Saikrishna"
   ]
  },
  {
   "cell_type": "markdown",
   "metadata": {},
   "source": [
    "### Problem 1 :\n",
    "#### Problem Statement\n",
    "Define a function to read data from a text file"
   ]
  },
  {
   "cell_type": "code",
   "execution_count": 30,
   "metadata": {},
   "outputs": [],
   "source": [
    "def ReadFileData(filename):\n",
    "    with open(filename,'r') as f:\n",
    "      #  for line in f:\n",
    "       #     print(line,end='')\n",
    "        print(f.read())\n",
    "    return\n",
    "\n",
    "def writeintofile(filename,data,mode):\n",
    "    with open (filename,mode) as f:\n",
    "        f.write(data)\n",
    "        return\n",
    "writeintofile('Datafiles/filewrite.txt','file data\\n','a')\n",
    "\n",
    "\n",
    "\n",
    "\n",
    "\n",
    "  \n",
    "\n",
    "\n"
   ]
  },
  {
   "cell_type": "markdown",
   "metadata": {},
   "source": [
    "### Problem 2 :\n",
    "#### Problem Statement\n",
    "Define a function to generate  a marks data file for 1300 students\n",
    "such that each mark is entered in a new line. marks range from 0 to 100 (inclusive) as random number\n"
   ]
  },
  {
   "cell_type": "code",
   "execution_count": 148,
   "metadata": {},
   "outputs": [],
   "source": [
    "import random\n",
    "def GenerateMarksData(n,filename):\n",
    "    with open(filename,'w') as marksfile:\n",
    "        for i in range(0,n):\n",
    "            marks=random.randint(0,100)\n",
    "            marksfile.write(str(marks)+'\\n')\n",
    "        return\n",
    "GenerateMarksData(1300,'Datafiles\\marksData.txt')       "
   ]
  },
  {
   "cell_type": "markdown",
   "metadata": {},
   "source": [
    "### Problem 3 :\n",
    "#### Problem Statement\n",
    "Generate a report on the marks data with the following indicator\n",
    "* Highest Marks :\n",
    "* lowest Mark :\n",
    "* Average Mark :\n",
    "* Number of students with distinction(>80) :\n",
    "* number of students with first class(>60) :\n",
    "* Number of students with second class(>50) :\n",
    "* Number of students with third class(>40) :\n",
    "* Number of students failed (<40) :"
   ]
  },
  {
   "cell_type": "code",
   "execution_count": 24,
   "metadata": {
    "scrolled": true
   },
   "outputs": [
    {
     "name": "stdout",
     "output_type": "stream",
     "text": [
      "100\n",
      "0\n",
      "50.824615384615385\n",
      "distinction 277\n",
      "firstclass 254\n",
      "second class 145\n",
      "third class 126\n",
      "fail 498\n"
     ]
    },
    {
     "data": {
      "text/plain": [
       "0.002489750000222557"
      ]
     },
     "execution_count": 24,
     "metadata": {},
     "output_type": "execute_result"
    }
   ],
   "source": [
    "import timeit\n",
    "def readfiledata(filename):\n",
    "    with open (filename,'r') as marksfile:\n",
    "        start=timeit.default_timer()\n",
    "        sum=0\n",
    "        c=d=e=f=g=0\n",
    "        a=[]\n",
    "        for i in range(0,1300):\n",
    "            a.append(int(marksfile.readline()))\n",
    "        print(max(a))\n",
    "        print(min(a))\n",
    "        for i in range(0,len(a)):\n",
    "            sum=sum+a[i]\n",
    "        average=sum/1300\n",
    "        print(average)\n",
    "        for i in range (0,len(a)):\n",
    "            if a[i]>=80:\n",
    "                c=c+1\n",
    "            if 60<=a[i]<80:\n",
    "                d=d+1\n",
    "            if 50<=a[i]<60:\n",
    "                e=e+1\n",
    "            if 40<=a[i]<50:\n",
    "                f=f+1\n",
    "            if a[i]<40:\n",
    "                g=g+1\n",
    "        print('distinction',c)\n",
    "        print('firstclass',d)\n",
    "        print('second class',e)\n",
    "        print('third class',f)\n",
    "        print('fail',g)\n",
    "        return timeit.default_timer() - start   \n",
    "            \n",
    "        \n",
    "readfiledata('Datafiles/marksData.txt')"
   ]
  },
  {
   "cell_type": "raw",
   "metadata": {},
   "source": []
  },
  {
   "cell_type": "code",
   "execution_count": 4,
   "metadata": {},
   "outputs": [
    {
     "name": "stdout",
     "output_type": "stream",
     "text": [
      "[[1 2 3]\n",
      " [3 4 5]]\n"
     ]
    },
    {
     "data": {
      "text/plain": [
       "numpy.ndarray"
      ]
     },
     "execution_count": 4,
     "metadata": {},
     "output_type": "execute_result"
    }
   ],
   "source": [
    "import numpy as np\n",
    "a=np.array([[1,2,3],[3,4,5]])\n",
    "print(a)\n",
    "type(a)"
   ]
  },
  {
   "cell_type": "markdown",
   "metadata": {},
   "source": [
    "### maps"
   ]
  },
  {
   "cell_type": "code",
   "execution_count": 5,
   "metadata": {},
   "outputs": [
    {
     "name": "stdout",
     "output_type": "stream",
     "text": [
      "[2, 4, 6, 8]\n"
     ]
    }
   ],
   "source": [
    "numbers = (1, 2, 3, 4) \n",
    "result = map(lambda x: x + x, numbers) \n",
    "print(list(result))"
   ]
  },
  {
   "cell_type": "code",
   "execution_count": 11,
   "metadata": {},
   "outputs": [
    {
     "name": "stdout",
     "output_type": "stream",
     "text": [
      "[10, 400, 27000, 2560000, 312500000]\n"
     ]
    }
   ],
   "source": [
    "bases=[10, 20, 30, 40, 50]\n",
    "index=[1, 2, 3, 4, 5]\n",
    "powers=list(map(pow, bases, index))\n",
    "powers"
   ]
  },
  {
   "cell_type": "code",
   "execution_count": 14,
   "metadata": {},
   "outputs": [
    {
     "data": {
      "text/plain": [
       "[1, 4, 9, 16]"
      ]
     },
     "execution_count": 14,
     "metadata": {},
     "output_type": "execute_result"
    }
   ],
   "source": [
    "sqrList =list(map(lambda x: x*x, [1, 2, 3, 4]))\n",
    "sqrList"
   ]
  },
  {
   "cell_type": "code",
   "execution_count": 17,
   "metadata": {},
   "outputs": [
    {
     "name": "stdout",
     "output_type": "stream",
     "text": [
      "[2, 4]\n"
     ]
    }
   ],
   "source": [
    "list_a = [1, 2, 3, 4, 5]\n",
    "\n",
    "filter_obj = filter(lambda x: x % 2 == 0, list_a)\n",
    "print(list(filter_obj))"
   ]
  },
  {
   "cell_type": "code",
   "execution_count": 54,
   "metadata": {},
   "outputs": [
    {
     "data": {
      "text/plain": [
       "'0b1001'"
      ]
     },
     "execution_count": 54,
     "metadata": {},
     "output_type": "execute_result"
    }
   ],
   "source": [
    "bin(9)\n"
   ]
  }
 ],
 "metadata": {
  "kernelspec": {
   "display_name": "Python 3",
   "language": "python",
   "name": "python3"
  },
  "language_info": {
   "codemirror_mode": {
    "name": "ipython",
    "version": 3
   },
   "file_extension": ".py",
   "mimetype": "text/x-python",
   "name": "python",
   "nbconvert_exporter": "python",
   "pygments_lexer": "ipython3",
   "version": "3.7.3"
  }
 },
 "nbformat": 4,
 "nbformat_minor": 2
}
